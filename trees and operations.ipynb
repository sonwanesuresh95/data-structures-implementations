{
 "cells": [
  {
   "cell_type": "markdown",
   "metadata": {},
   "source": [
    "# Tree Implementation"
   ]
  },
  {
   "cell_type": "code",
   "execution_count": 31,
   "metadata": {},
   "outputs": [],
   "source": [
    "class Node:\n",
    "    def __init__(self, element):\n",
    "        self.left = None\n",
    "        self.right = None\n",
    "        self.value = element\n",
    "    \n",
    "    def show(self):\n",
    "        print('node =', self.value, '\\tleft child =', self.left, '\\tright child =', self.right)"
   ]
  },
  {
   "cell_type": "code",
   "execution_count": 32,
   "metadata": {},
   "outputs": [],
   "source": [
    "root = Node(1)"
   ]
  },
  {
   "cell_type": "code",
   "execution_count": 33,
   "metadata": {},
   "outputs": [
    {
     "name": "stdout",
     "output_type": "stream",
     "text": [
      "node = 1 \tleft child = None \tright child = None\n"
     ]
    }
   ],
   "source": [
    "root.show()"
   ]
  },
  {
   "cell_type": "code",
   "execution_count": 34,
   "metadata": {},
   "outputs": [],
   "source": [
    "lr = Node(2)\n",
    "rr = Node(3)"
   ]
  },
  {
   "cell_type": "code",
   "execution_count": 35,
   "metadata": {},
   "outputs": [],
   "source": [
    "root.left = lr\n",
    "root.right = rr"
   ]
  },
  {
   "cell_type": "code",
   "execution_count": 36,
   "metadata": {},
   "outputs": [
    {
     "name": "stdout",
     "output_type": "stream",
     "text": [
      "node = 1 \tleft child = <__main__.Node object at 0x7fef805d8350> \tright child = <__main__.Node object at 0x7fef805d8310>\n"
     ]
    }
   ],
   "source": [
    "root.show()"
   ]
  },
  {
   "cell_type": "markdown",
   "metadata": {},
   "source": [
    "# Traversal Techniques"
   ]
  },
  {
   "cell_type": "markdown",
   "metadata": {},
   "source": [
    "## Inorder Traversal"
   ]
  },
  {
   "cell_type": "code",
   "execution_count": 37,
   "metadata": {},
   "outputs": [],
   "source": [
    "class Node:\n",
    "    def __init__(self, item):\n",
    "        self.left = None\n",
    "        self.right = None\n",
    "        self.val = item"
   ]
  },
  {
   "cell_type": "code",
   "execution_count": 38,
   "metadata": {},
   "outputs": [],
   "source": [
    "def preorder(root):\n",
    "    if root:\n",
    "        print(str(root.val)+'->', end='')\n",
    "        preorder(root.left)\n",
    "        preorder(root.right)"
   ]
  },
  {
   "cell_type": "code",
   "execution_count": 39,
   "metadata": {},
   "outputs": [],
   "source": [
    "def inorder(root):\n",
    "    if root:\n",
    "        inorder(root.left)\n",
    "        print(str(root.val) + \"->\", end='')\n",
    "        inorder(root.right)"
   ]
  },
  {
   "cell_type": "code",
   "execution_count": 40,
   "metadata": {},
   "outputs": [],
   "source": [
    "def postorder(root):\n",
    "    if root:\n",
    "        postorder(root.left)\n",
    "        postorder(root.right)\n",
    "        print(str(root.val)+\"->\",end='')"
   ]
  },
  {
   "cell_type": "markdown",
   "metadata": {},
   "source": [
    "<pre>\n",
    "      1\n",
    "  2       3\n",
    "4   5\n",
    "</pre>"
   ]
  },
  {
   "cell_type": "code",
   "execution_count": 41,
   "metadata": {},
   "outputs": [],
   "source": [
    "root = Node(1)"
   ]
  },
  {
   "cell_type": "code",
   "execution_count": 42,
   "metadata": {},
   "outputs": [],
   "source": [
    "lr1 = Node(2)\n",
    "rr1 = Node(3)"
   ]
  },
  {
   "cell_type": "code",
   "execution_count": 43,
   "metadata": {},
   "outputs": [],
   "source": [
    "lr2 = Node(4)\n",
    "rr2 = Node(5)"
   ]
  },
  {
   "cell_type": "code",
   "execution_count": 44,
   "metadata": {},
   "outputs": [],
   "source": [
    "root.left = lr1\n",
    "root.right = rr1"
   ]
  },
  {
   "cell_type": "code",
   "execution_count": 45,
   "metadata": {},
   "outputs": [],
   "source": [
    "lr1.left = lr2\n",
    "lr1.right = rr2"
   ]
  },
  {
   "cell_type": "code",
   "execution_count": 46,
   "metadata": {},
   "outputs": [
    {
     "name": "stdout",
     "output_type": "stream",
     "text": [
      "1->2->4->5->3->"
     ]
    }
   ],
   "source": [
    "preorder(root)"
   ]
  },
  {
   "cell_type": "code",
   "execution_count": 47,
   "metadata": {},
   "outputs": [
    {
     "name": "stdout",
     "output_type": "stream",
     "text": [
      "4->2->5->1->3->"
     ]
    }
   ],
   "source": [
    "inorder(root)"
   ]
  },
  {
   "cell_type": "code",
   "execution_count": 48,
   "metadata": {},
   "outputs": [
    {
     "name": "stdout",
     "output_type": "stream",
     "text": [
      "4->5->2->3->1->"
     ]
    }
   ],
   "source": [
    "postorder(root)"
   ]
  },
  {
   "cell_type": "markdown",
   "metadata": {},
   "source": [
    "# Binary Tree Traversal"
   ]
  },
  {
   "cell_type": "code",
   "execution_count": 49,
   "metadata": {},
   "outputs": [],
   "source": [
    "def preorder(root):\n",
    "    if root:\n",
    "        print(str(root.val)+'->',end='')\n",
    "        if root.left:\n",
    "            preorder(root.left)\n",
    "        if root.right:\n",
    "            preorder(root.right)\n",
    "        "
   ]
  },
  {
   "cell_type": "code",
   "execution_count": 50,
   "metadata": {},
   "outputs": [
    {
     "name": "stdout",
     "output_type": "stream",
     "text": [
      "1->2->4->5->3->"
     ]
    }
   ],
   "source": [
    "preorder(root)"
   ]
  },
  {
   "cell_type": "markdown",
   "metadata": {},
   "source": [
    "Just like that others work too"
   ]
  },
  {
   "cell_type": "markdown",
   "metadata": {},
   "source": [
    "## Check maximum depth/height of a binary tree"
   ]
  },
  {
   "cell_type": "code",
   "execution_count": 51,
   "metadata": {},
   "outputs": [],
   "source": [
    "height = [-1]"
   ]
  },
  {
   "cell_type": "code",
   "execution_count": 52,
   "metadata": {},
   "outputs": [],
   "source": [
    "def check_height(root):\n",
    "    if root:\n",
    "        height.append(1)\n",
    "        if root.left:\n",
    "            check_height(root.left)\n",
    "        elif root.right:\n",
    "            check_height(root.right)\n",
    "    return height"
   ]
  },
  {
   "cell_type": "code",
   "execution_count": 53,
   "metadata": {},
   "outputs": [],
   "source": [
    "def return_height(root):\n",
    "    global height\n",
    "    height = [-1]\n",
    "    return sum(check_height(root))"
   ]
  },
  {
   "cell_type": "markdown",
   "metadata": {},
   "source": [
    "# Check if Balanced Binary Tree"
   ]
  },
  {
   "cell_type": "code",
   "execution_count": 56,
   "metadata": {},
   "outputs": [],
   "source": [
    "root = Node(1)"
   ]
  },
  {
   "cell_type": "code",
   "execution_count": 57,
   "metadata": {},
   "outputs": [],
   "source": [
    "root.left = Node(2)\n",
    "root.right = Node(3)\n",
    "root.left.left = Node(4)\n",
    "root.left.right = Node(5)\n",
    "root.left.left.left = Node(6)\n",
    "root.left.left.right = Node(7)"
   ]
  },
  {
   "cell_type": "code",
   "execution_count": 58,
   "metadata": {},
   "outputs": [],
   "source": [
    "def bal_bt(LHS,RHS):\n",
    "    if abs(LHS - RHS) <= 1:\n",
    "        return True"
   ]
  },
  {
   "cell_type": "code",
   "execution_count": 59,
   "metadata": {},
   "outputs": [],
   "source": [
    "def check_if_balanced(root):\n",
    "    if root:\n",
    "        LS = root.left\n",
    "        RS = root.right\n",
    "        LHS = return_height(LS)\n",
    "        RHS = return_height(RS)\n",
    "        if bal_bt(LHS,RHS):\n",
    "            check_if_balanced(LS)\n",
    "            check_if_balanced(RS)\n",
    "            return True\n",
    "        return False"
   ]
  },
  {
   "cell_type": "code",
   "execution_count": 60,
   "metadata": {},
   "outputs": [
    {
     "data": {
      "text/plain": [
       "False"
      ]
     },
     "execution_count": 60,
     "metadata": {},
     "output_type": "execute_result"
    }
   ],
   "source": [
    "check_if_balanced(root)"
   ]
  },
  {
   "cell_type": "markdown",
   "metadata": {},
   "source": [
    "# Binary Search Tree"
   ]
  },
  {
   "cell_type": "code",
   "execution_count": 61,
   "metadata": {},
   "outputs": [],
   "source": [
    "root = Node(8)"
   ]
  },
  {
   "cell_type": "code",
   "execution_count": 62,
   "metadata": {},
   "outputs": [],
   "source": [
    "root.left = Node(3)\n",
    "root.right = Node(10)\n",
    "root.left.left = Node(1)\n",
    "root.left.right = Node(6)\n",
    "root.left.right.left = Node(4)"
   ]
  },
  {
   "cell_type": "code",
   "execution_count": 63,
   "metadata": {},
   "outputs": [],
   "source": [
    "class BSToperation:\n",
    "    def __init__(self):\n",
    "        self.msg = \"not found\"\n",
    "    def inorder(self,root):\n",
    "        if root:\n",
    "            self.inorder(root.left)\n",
    "            print(str(root.val)+'->',end='')\n",
    "            self.inorder(root.right)\n",
    "\n",
    "    def search(self,root,val):\n",
    "        #global msg\n",
    "        if root:\n",
    "            if root.val == val:\n",
    "                self.msg = \"found\"\n",
    "            elif val < root.val:\n",
    "                search_subtree = root.left\n",
    "                self.search(search_subtree,val)\n",
    "            elif val > root.val:\n",
    "                search_subtree = root.right\n",
    "                self.search(search_subtree,val)\n",
    "        return self.msg\n",
    "    \n",
    "    # insert\n",
    "    def insert(self, root, val):\n",
    "        if root:\n",
    "            if root == val:\n",
    "                pass\n",
    "            if val < root.val:\n",
    "                left_subtree = root.left\n",
    "                if left_subtree == None:\n",
    "                    root.left = Node(val)\n",
    "                else:\n",
    "                    self.insert(left_subtree, val)\n",
    "            if val > root.val:\n",
    "                right_subtree = root.right\n",
    "                if right_subtree == None:\n",
    "                    root.right = Node(val)\n",
    "                else:\n",
    "                    self.insert(right_subtree, val)\n",
    "                \n",
    "    # delete leaf node\n",
    "    def delete_leaf_driver(self, root, val):\n",
    "        if self.search(root, val) != \"found\":\n",
    "            return \"element is not present in bst\"\n",
    "        else:\n",
    "            self.delete_leaf(root, val)\n",
    "        return \"deleted {}\".format(val)\n",
    "\n",
    "    def delete_leaf(self, root, val):\n",
    "        if root:\n",
    "            if root.left.val == val:\n",
    "                root.left = None\n",
    "            elif root.right.val == val:\n",
    "                root.right = None\n",
    "            elif val < root.val:\n",
    "                self.delete_leaf(root.left, val)\n",
    "            elif val > root.val:\n",
    "                self.delete_leaf(root.right, val)\n",
    "        \n",
    "    # delete node with one child\n",
    "    "
   ]
  },
  {
   "cell_type": "code",
   "execution_count": 64,
   "metadata": {},
   "outputs": [],
   "source": [
    "b = BSToperation()"
   ]
  },
  {
   "cell_type": "code",
   "execution_count": 65,
   "metadata": {},
   "outputs": [
    {
     "name": "stdout",
     "output_type": "stream",
     "text": [
      "1->3->4->6->8->10->None\n"
     ]
    }
   ],
   "source": [
    "print(b.inorder(root=root))"
   ]
  },
  {
   "cell_type": "code",
   "execution_count": 66,
   "metadata": {},
   "outputs": [
    {
     "name": "stdout",
     "output_type": "stream",
     "text": [
      "found\n"
     ]
    }
   ],
   "source": [
    "print(b.search(root,4))"
   ]
  },
  {
   "cell_type": "code",
   "execution_count": 67,
   "metadata": {},
   "outputs": [],
   "source": [
    "# insert"
   ]
  },
  {
   "cell_type": "code",
   "execution_count": 68,
   "metadata": {},
   "outputs": [],
   "source": [
    "root = Node(8)"
   ]
  },
  {
   "cell_type": "code",
   "execution_count": 69,
   "metadata": {},
   "outputs": [],
   "source": [
    "root.left = Node(3)\n",
    "root.right = Node(10)\n",
    "root.right.right = Node(14)\n",
    "root.left.left = Node(1)\n",
    "root.left.right = Node(6)\n",
    "root.left.right.right = Node(7)\n",
    "root.left.right.left = Node(4)"
   ]
  },
  {
   "cell_type": "code",
   "execution_count": 70,
   "metadata": {},
   "outputs": [
    {
     "name": "stdout",
     "output_type": "stream",
     "text": [
      "1->3->4->6->7->8->10->14->"
     ]
    }
   ],
   "source": [
    "b.inorder(root)"
   ]
  },
  {
   "cell_type": "code",
   "execution_count": 71,
   "metadata": {},
   "outputs": [
    {
     "data": {
      "text/plain": [
       "4"
      ]
     },
     "execution_count": 71,
     "metadata": {},
     "output_type": "execute_result"
    }
   ],
   "source": [
    "root.left.right.left.val"
   ]
  },
  {
   "cell_type": "code",
   "execution_count": 72,
   "metadata": {},
   "outputs": [],
   "source": [
    "b.delete_leaf(root, 4)"
   ]
  },
  {
   "cell_type": "code",
   "execution_count": 73,
   "metadata": {},
   "outputs": [
    {
     "name": "stdout",
     "output_type": "stream",
     "text": [
      "1->3->6->7->8->10->14->"
     ]
    }
   ],
   "source": [
    "inorder(root)"
   ]
  },
  {
   "cell_type": "code",
   "execution_count": null,
   "metadata": {},
   "outputs": [],
   "source": []
  },
  {
   "cell_type": "code",
   "execution_count": 74,
   "metadata": {},
   "outputs": [],
   "source": [
    "# Code for AVL Tree (self balancing Binary Tree) is over 250-300 lines"
   ]
  },
  {
   "cell_type": "code",
   "execution_count": null,
   "metadata": {},
   "outputs": [],
   "source": []
  }
 ],
 "metadata": {
  "kernelspec": {
   "display_name": "Python 3",
   "language": "python",
   "name": "python3"
  },
  "language_info": {
   "codemirror_mode": {
    "name": "ipython",
    "version": 3
   },
   "file_extension": ".py",
   "mimetype": "text/x-python",
   "name": "python",
   "nbconvert_exporter": "python",
   "pygments_lexer": "ipython3",
   "version": "3.7.6"
  }
 },
 "nbformat": 4,
 "nbformat_minor": 4
}
